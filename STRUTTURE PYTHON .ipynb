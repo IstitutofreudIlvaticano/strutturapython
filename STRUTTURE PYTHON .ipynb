{
 "cells": [
  {
   "cell_type": "markdown",
   "id": "3a9f696f",
   "metadata": {},
   "source": [
    "# STRUTTURE PYTHON \n",
    "<a id=\"inizio\"></a>\n"
   ]
  },
  {
   "cell_type": "markdown",
   "id": "c572b1b1",
   "metadata": {},
   "source": [
    "### Cos'è?"
   ]
  },
  {
   "cell_type": "markdown",
   "id": "95336768",
   "metadata": {},
   "source": [
    "Le strutture di dati in Python sono come contenitori speciali che ci aiutano a organizzare le informazioni in modo più ordinato e facile da gestire."
   ]
  },
  {
   "cell_type": "markdown",
   "id": "6ec5788a",
   "metadata": {},
   "source": [
    "### <font color=“red”>ARGOMENTO</font>"
   ]
  },
  {
   "cell_type": "markdown",
   "id": "5a53489f",
   "metadata": {},
   "source": [
    "* **Variabili**\n",
    "* **Numerica**\n",
    "* **Stringa**\n",
    "* **Liste**\n",
    "* **Indovina il numero**\n",
    "* **Dizionari**\n",
    "* **Rubrica telefonica**\n",
    "* **Temperatura**\n",
    "* **Tuble**\n",
    "* **Coordinate**\n",
    "* **Informazioni su una pesona**\n",
    "\n"
   ]
  },
  {
   "cell_type": "markdown",
   "id": "4e4f6fc5",
   "metadata": {},
   "source": [
    "## 1  VARIABILI ##\n"
   ]
  },
  {
   "cell_type": "markdown",
   "id": "ad65cad1",
   "metadata": {},
   "source": [
    "Le variabili in Python sono come contenitori che tengono i nostri dati. Ogni variabile ha un nome che la identifica e un valore che rappresenta i dati che contiene. Quando assegniamo un valore a una variabile, Python riserva uno spazio di memoria"
   ]
  },
  {
   "cell_type": "markdown",
   "id": "f546775a",
   "metadata": {},
   "source": [
    "## 2 NUMERICA ##"
   ]
  },
  {
   "cell_type": "markdown",
   "id": "5a6141e7",
   "metadata": {},
   "source": [
    "Numerica possono essere utilizzati per eseguire una varietà di operazioni matematiche. 3 tipi di numerici: \n",
    "1. intero: numeri interi  \n",
    "2. float: numeri decimali o a virgola  \n",
    "3. complesso: numeri complessi con una parte reale e una parte immaginaria  "
   ]
  },
  {
   "cell_type": "code",
   "execution_count": 1,
   "id": "8cdc96ef",
   "metadata": {},
   "outputs": [
    {
     "name": "stdout",
     "output_type": "stream",
     "text": [
      "8.14\n",
      "(6.28+9.42j)\n"
     ]
    }
   ],
   "source": [
    "a = 5  # Int\n",
    "b = 3.14  # Float\n",
    "c = 2 + 3j # un numero complesso con una parte reale di 2 e una parte immaginaria di 3\n",
    "\n",
    "# Operazioni\n",
    "somma = a + b\n",
    "prodotto = b * c\n",
    "\n",
    "print(somma)\n",
    "print(prodotto)\n"
   ]
  },
  {
   "cell_type": "markdown",
   "id": "55431f94",
   "metadata": {},
   "source": [
    "## 3  STRINGA ##"
   ]
  },
  {
   "cell_type": "markdown",
   "id": "6cf23867",
   "metadata": {},
   "source": [
    "Una stringa in Python è una sequenza di caratteri, come lettere, numeri o simboli,  È utilizzata per rappresentare testo all'interno di un programma e può essere manipolata in varie forme, come prendere singoli caratteri, unire stringhe insieme o cambiarne il contenuto."
   ]
  },
  {
   "cell_type": "code",
   "execution_count": 1,
   "id": "39af56de",
   "metadata": {},
   "outputs": [
    {
     "name": "stdout",
     "output_type": "stream",
     "text": [
      "Ciao, mondo!\n",
      "Il primo carattere è: C\n",
      "I primi cinque caratteri sono: Ciao,\n",
      "Ciao, mondo! Sono Alice\n",
      "Saluto in maiuscolo: CIAO, MONDO!\n",
      "Nuovo saluto: Buongiorno, mondo!\n"
     ]
    }
   ],
   "source": [
    "saluto = \"Ciao, mondo!\"\n",
    "print(saluto)\n",
    "\n",
    "primo_carattere = saluto[0]\n",
    "print(\"Il primo carattere è:\", primo_carattere)\n",
    "\n",
    "primi_cinque_caratteri = saluto[:5]\n",
    "print(\"I primi cinque caratteri sono:\", primi_cinque_caratteri)\n",
    "\n",
    "nome = \"Alice\"\n",
    "messaggio = saluto + \" Sono \" + nome\n",
    "print(messaggio)\n",
    "\n",
    "saluto_maiuscolo = saluto.upper()\n",
    "print(\"Saluto in maiuscolo:\", saluto_maiuscolo)\n",
    "\n",
    "nuovo_saluto = saluto.replace(\"Ciao\", \"Buongiorno\")\n",
    "print(\"Nuovo saluto:\", nuovo_saluto)\n"
   ]
  },
  {
   "cell_type": "markdown",
   "id": "3a7f166e",
   "metadata": {},
   "source": [
    "## 4 LISTE ##"
   ]
  },
  {
   "cell_type": "markdown",
   "id": "242384cf",
   "metadata": {},
   "source": [
    "Le liste in Python sono come contenitori che possono contenere una sequenza ordinata di elementi. Puoi immaginarle come elenchi di cose, dove ogni cosa può essere di qualsiasi tipo: numeri, stringhe, altre liste e così via. Le liste sono definite tra parentesi quadre [ ] e gli elementi sono separati da virgole."
   ]
  },
  {
   "cell_type": "code",
   "execution_count": 3,
   "id": "95bfd78f",
   "metadata": {},
   "outputs": [
    {
     "name": "stdout",
     "output_type": "stream",
     "text": [
      "Il primo numero è: 1\n",
      "Il primo tipo di frutta è: mela\n",
      "La lista dei numeri dopo la modifica è: [1, 10, 3, 4, 5]\n",
      "La lista delle frutta dopo l'aggiunta è: ['mela', 'banana', 'arancia', 'fragola', 'uva']\n",
      "La lista delle frutta dopo la rimozione è: ['mela', 'banana', 'fragola', 'uva']\n"
     ]
    }
   ],
   "source": [
    "numeri = [1, 2, 3, 4, 5]\n",
    "frutta = [\"mela\", \"banana\", \"arancia\", \"fragola\"]\n",
    "\n",
    "print(\"Il primo numero è:\", numeri[0])\n",
    "print(\"Il primo tipo di frutta è:\", frutta[0])\n",
    "\n",
    "numeri[1] = 10\n",
    "print(\"La lista dei numeri dopo la modifica è:\", numeri)\n",
    "\n",
    "frutta.append(\"uva\")\n",
    "print(\"La lista delle frutta dopo l'aggiunta è:\", frutta)\n",
    "\n",
    "frutta.remove(\"arancia\")\n",
    "print(\"La lista delle frutta dopo la rimozione è:\", frutta)\n"
   ]
  },
  {
   "cell_type": "markdown",
   "id": "c59c3269",
   "metadata": {},
   "source": [
    "## 5  INDOVINA IL NUMERO ##"
   ]
  },
  {
   "cell_type": "markdown",
   "id": "306fcd9f",
   "metadata": {},
   "source": [
    "\"Indovina il numero\" è un gioco in cui il computer sceglie casualmente un numero segreto e il giocatore cerca di indovinarlo. Il giocatore fa una serie di tentativi, e il computer fornisce suggerimenti su quali tentativi sono troppo alti, troppo bassi o corretti. Lo scopo del gioco è indovinare il numero segreto nel minor numero di tentativi possibile"
   ]
  },
  {
   "cell_type": "code",
   "execution_count": 4,
   "id": "b5047b1b",
   "metadata": {},
   "outputs": [
    {
     "name": "stdout",
     "output_type": "stream",
     "text": [
      "Indovina il numero (da 1 a 100): 4\n",
      "Troppo basso! Prova ancora.\n",
      "Indovina il numero (da 1 a 100): 3\n",
      "Troppo basso! Prova ancora.\n",
      "Indovina il numero (da 1 a 100): 2\n",
      "Troppo basso! Prova ancora.\n",
      "Indovina il numero (da 1 a 100): 4\n",
      "Troppo basso! Prova ancora.\n",
      "Indovina il numero (da 1 a 100): 5\n",
      "Troppo basso! Prova ancora.\n",
      "Indovina il numero (da 1 a 100): 293\n",
      "Troppo alto! Prova ancora.\n",
      "Indovina il numero (da 1 a 100): 32\n",
      "Troppo basso! Prova ancora.\n",
      "Indovina il numero (da 1 a 100): 80\n",
      "Troppo alto! Prova ancora.\n",
      "Indovina il numero (da 1 a 100): 50\n",
      "Troppo alto! Prova ancora.\n",
      "Indovina il numero (da 1 a 100): 30\n",
      "Troppo basso! Prova ancora.\n",
      "Indovina il numero (da 1 a 100): 35\n",
      "Troppo basso! Prova ancora.\n",
      "Indovina il numero (da 1 a 100): 40\n",
      "Troppo basso! Prova ancora.\n",
      "Indovina il numero (da 1 a 100): 45\n",
      "Troppo basso! Prova ancora.\n",
      "Indovina il numero (da 1 a 100): 46\n",
      "Troppo basso! Prova ancora.\n",
      "Indovina il numero (da 1 a 100): 47\n",
      "Troppo basso! Prova ancora.\n",
      "Indovina il numero (da 1 a 100): 48\n",
      "Troppo basso! Prova ancora.\n",
      "Indovina il numero (da 1 a 100): 49\n",
      "Bravo! Hai indovinato il numero in 17 tentativi!\n"
     ]
    }
   ],
   "source": [
    "import random\n",
    "\n",
    "numero_segreto = random.randint(1, 100)\n",
    "\n",
    "tentativi = 0\n",
    "\n",
    "while True:\n",
    "    tentativo = int(input(\"Indovina il numero (da 1 a 100): \"))\n",
    "    tentativi += 1\n",
    "    \n",
    "    if tentativo == numero_segreto:\n",
    "        print(\"Bravo! Hai indovinato il numero in\", tentativi, \"tentativi!\")\n",
    "        break\n",
    "    elif tentativo < numero_segreto:\n",
    "        print(\"Troppo basso! Prova ancora.\")\n",
    "    else:\n",
    "        print(\"Troppo alto! Prova ancora.\")\n"
   ]
  },
  {
   "cell_type": "markdown",
   "id": "eb8b13fe",
   "metadata": {},
   "source": [
    "## 6 DIZIONARI ##"
   ]
  },
  {
   "cell_type": "markdown",
   "id": "76e232f8",
   "metadata": {},
   "source": [
    "diozionario è una struttura di dati che memorizza coppie chiave-valore. Puoi pensare a un dizionario come a un elenco di definizioni nel quale ogni parola (chiave) ha un significato (valore) associato."
   ]
  },
  {
   "cell_type": "code",
   "execution_count": 5,
   "id": "4a8afe32",
   "metadata": {},
   "outputs": [
    {
     "name": "stdout",
     "output_type": "stream",
     "text": [
      "Il significato di 'cane' è: un animale domestico che abbaia\n",
      "Il dizionario aggiornato è: {'cane': 'un animale domestico che abbaia', 'gatto': 'un animale domestico che fa le fusa', 'uccello': 'un animale che vola e fa uova', 'pesce': 'un animale acquatico che nuota'}\n"
     ]
    }
   ],
   "source": [
    "dizionario = {\n",
    "    \"cane\": \"un animale domestico che abbaia\",\n",
    "    \"gatto\": \"un animale domestico che fa le fusa\",\n",
    "    \"uccello\": \"un animale che vola e fa uova\"\n",
    "}\n",
    "\n",
    "print(\"Il significato di 'cane' è:\", dizionario[\"cane\"])\n",
    "\n",
    "dizionario[\"pesce\"] = \"un animale acquatico che nuota\"\n",
    "\n",
    "print(\"Il dizionario aggiornato è:\", dizionario)\n"
   ]
  },
  {
   "cell_type": "markdown",
   "id": "b93a4aaa",
   "metadata": {},
   "source": [
    "## 7 RUBRICA TELEFONICA ##"
   ]
  },
  {
   "cell_type": "markdown",
   "id": "38e2e903",
   "metadata": {},
   "source": [
    "rubrica telefonica è un dizionario dove dichiara i nomi delle persone e i loro numero "
   ]
  },
  {
   "cell_type": "code",
   "execution_count": 6,
   "id": "bc771e20",
   "metadata": {},
   "outputs": [
    {
     "name": "stdout",
     "output_type": "stream",
     "text": [
      "Inserisci il nome del contatto da cercare: david\n",
      "Il contatto david non è presente nella rubrica.\n",
      "Rubrica telefonica:\n",
      "Alice: 123456789\n",
      "Bob: 987654321\n",
      "Charlie: 555555555\n",
      "David: 111111111\n"
     ]
    }
   ],
   "source": [
    "rubrica = {\n",
    "    \"Alice\": \"123456789\",\n",
    "    \"Bob\": \"987654321\",\n",
    "    \"Charlie\": \"555555555\"\n",
    "}\n",
    "\n",
    "rubrica[\"David\"] = \"111111111\"\n",
    "\n",
    "nome = input(\"Inserisci il nome del contatto da cercare: \")\n",
    "if nome in rubrica:\n",
    "    print(\"Il numero di telefono di\", nome, \"è:\", rubrica[nome])\n",
    "else:\n",
    "    print(\"Il contatto\", nome, \"non è presente nella rubrica.\")\n",
    "\n",
    "print(\"Rubrica telefonica:\")\n",
    "for nome, numero in rubrica.items():\n",
    "    print(nome + \":\", numero)\n"
   ]
  },
  {
   "cell_type": "markdown",
   "id": "b3735f7b",
   "metadata": {},
   "source": [
    "## 8 TEMPERATURA ##\n"
   ]
  },
  {
   "cell_type": "markdown",
   "id": "4f4a4dd7",
   "metadata": {},
   "source": [
    "possiamo rappresentare la temperatura utilizzando variabili di tipo numerico, come gli interi o i float, che possono rappresentare gradi Celsius, Fahrenheit, o Kelvin."
   ]
  },
  {
   "cell_type": "code",
   "execution_count": 8,
   "id": "06b18a6d",
   "metadata": {},
   "outputs": [
    {
     "name": "stdout",
     "output_type": "stream",
     "text": [
      "Inserisci il nome della città di cui vuoi conoscere la temperatura: Palermo\n",
      "La temperatura di Palermo è di 25 gradi Celsius.\n",
      "Temperature delle città:\n",
      "Roma: 20 gradi Celsius\n",
      "Milano: 18 gradi Celsius\n",
      "Napoli: 22 gradi Celsius\n",
      "Torino: 15 gradi Celsius\n",
      "Palermo: 25 gradi Celsius\n",
      "Firenze: 19 gradi Celsius\n"
     ]
    }
   ],
   "source": [
    "temperature = {\n",
    "    \"Roma\": 20,\n",
    "    \"Milano\": 18,\n",
    "    \"Napoli\": 22,\n",
    "    \"Torino\": 15,\n",
    "    \"Palermo\": 25\n",
    "}\n",
    "\n",
    "temperature[\"Firenze\"] = 19\n",
    "\n",
    "citta = input(\"Inserisci il nome della città di cui vuoi conoscere la temperatura: \")\n",
    "if citta in temperature:\n",
    "    print(\"La temperatura di\", citta, \"è di\", temperature[citta], \"gradi Celsius.\")\n",
    "else:\n",
    "    print(\"La città\", citta, \"non è presente nei dati delle temperature.\")\n",
    "\n",
    "print(\"Temperature delle città:\")\n",
    "for citta, temp in temperature.items():\n",
    "    print(citta + \":\", temp, \"gradi Celsius\")\n"
   ]
  },
  {
   "cell_type": "markdown",
   "id": "38536a8d",
   "metadata": {},
   "source": [
    "## 9 TUBLE ##\n"
   ]
  },
  {
   "cell_type": "markdown",
   "id": "d20a5a48",
   "metadata": {},
   "source": [
    "è simile a una lista ma non si puo modificare, Le tuple sono definite tra parentesi tonde (), e gli elementi sono separati da virgole. Le tuple possono contenere elementi di diversi tipi di dati e sono utilizzate per memorizzare insiemi di valori correlati."
   ]
  },
  {
   "cell_type": "code",
   "execution_count": 9,
   "id": "cafd507e",
   "metadata": {},
   "outputs": [
    {
     "name": "stdout",
     "output_type": "stream",
     "text": [
      "Latitudine: 41.8919\n",
      "Longitudine: 12.5113\n",
      "Quoziente e resto: (3, 1)\n"
     ]
    }
   ],
   "source": [
    "coordinate = (41.8919, 12.5113)\n",
    "\n",
    "latitudine = coordinate[0]\n",
    "longitudine = coordinate[1]\n",
    "\n",
    "print(\"Latitudine:\", latitudine)\n",
    "print(\"Longitudine:\", longitudine)\n",
    "\n",
    "def dividi_numero(numero1, numero2):\n",
    "    quoziente = numero1 // numero2\n",
    "    resto = numero1 % numero2\n",
    "    return quoziente, resto\n",
    "\n",
    "risultato = dividi_numero(10, 3)\n",
    "print(\"Quoziente e resto:\", risultato)\n"
   ]
  },
  {
   "cell_type": "markdown",
   "id": "e2d6109c",
   "metadata": {},
   "source": [
    "## 10  COORDINATE ##\n"
   ]
  },
  {
   "cell_type": "markdown",
   "id": "a1a9b21c",
   "metadata": {},
   "source": [
    "le coordinate possono essere rappresentate utilizzando tuple o liste di due valori che rappresentano la posizione su una griglia bidimensionale, come ad esempio le coordinate geografiche (latitudine e longitudine) o le coordinate cartesiane (x e y)."
   ]
  },
  {
   "cell_type": "code",
   "execution_count": 10,
   "id": "621b45fd",
   "metadata": {},
   "outputs": [
    {
     "name": "stdout",
     "output_type": "stream",
     "text": [
      "Coordinate cartesiane: (3, 5)\n",
      "Valore di x: 3\n",
      "Valore di y: 5\n"
     ]
    }
   ],
   "source": [
    "# Creiamo una tupla di coordinate cartesiane (x, y)\n",
    "coordinate_cartesiane = (3, 5)\n",
    "\n",
    "# Stampiamo le coordinate cartesiane\n",
    "print(\"Coordinate cartesiane:\", coordinate_cartesiane)\n",
    "\n",
    "# Possiamo accedere ai singoli valori delle coordinate\n",
    "x = coordinate_cartesiane[0]\n",
    "y = coordinate_cartesiane[1]\n",
    "\n",
    "# Stampiamo i valori di x e y separatamente\n",
    "print(\"Valore di x:\", x)\n",
    "print(\"Valore di y:\", y)\n"
   ]
  },
  {
   "cell_type": "markdown",
   "id": "62539cd0",
   "metadata": {},
   "source": [
    "## 11  INFORMAZIONE SU UNA PERSONA ##\n"
   ]
  },
  {
   "cell_type": "code",
   "execution_count": 11,
   "id": "80f9d658",
   "metadata": {},
   "outputs": [
    {
     "name": "stdout",
     "output_type": "stream",
     "text": [
      "Informazioni su Alice\n",
      "Nome: Alice\n",
      "Età: 30\n",
      "Sesso: F\n",
      "Indirizzo: Via Roma 123\n",
      "Email: alice@example.com\n"
     ]
    }
   ],
   "source": [
    "# Creiamo un dizionario con le informazioni su una persona\n",
    "persona = {\n",
    "    \"nome\": \"Alice\",\n",
    "    \"eta\": 30,\n",
    "    \"sesso\": \"F\",\n",
    "    \"indirizzo\": \"Via Roma 123\",\n",
    "    \"email\": \"alice@example.com\"\n",
    "}\n",
    "\n",
    "# Stampiamo le informazioni sulla persona\n",
    "print(\"Informazioni su\", persona[\"nome\"])\n",
    "print(\"Nome:\", persona[\"nome\"])\n",
    "print(\"Età:\", persona[\"eta\"])\n",
    "print(\"Sesso:\", persona[\"sesso\"])\n",
    "print(\"Indirizzo:\", persona[\"indirizzo\"])\n",
    "print(\"Email:\", persona[\"email\"])\n"
   ]
  },
  {
   "cell_type": "markdown",
   "id": "a81174c9",
   "metadata": {},
   "source": [
    "\n",
    "[vai al inizio](inizio)"
   ]
  },
  {
   "cell_type": "code",
   "execution_count": null,
   "id": "1a380e3a",
   "metadata": {},
   "outputs": [],
   "source": []
  }
 ],
 "metadata": {
  "kernelspec": {
   "display_name": "Python 3 (ipykernel)",
   "language": "python",
   "name": "python3"
  },
  "language_info": {
   "codemirror_mode": {
    "name": "ipython",
    "version": 3
   },
   "file_extension": ".py",
   "mimetype": "text/x-python",
   "name": "python",
   "nbconvert_exporter": "python",
   "pygments_lexer": "ipython3",
   "version": "3.11.4"
  }
 },
 "nbformat": 4,
 "nbformat_minor": 5
}
